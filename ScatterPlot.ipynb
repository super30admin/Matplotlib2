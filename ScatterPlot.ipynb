{
 "cells": [
  {
   "cell_type": "code",
   "execution_count": 1,
   "metadata": {},
   "outputs": [
    {
     "data": {
      "image/png": "[encoded data removed]",
      "text/plain": [
       "<Figure size 432x288 with 1 Axes>"
      ]
     },
     "metadata": {
      "needs_background": "light"
     },
     "output_type": "display_data"
    }
   ],
   "source": [
    "import matplotlib.pyplot as plt\n",
    "\n",
    "\n",
    "x =[5, 7, 8, 7, 2, 17, 2, 9,\n",
    "\t4, 11, 12, 9, 6]\n",
    "\n",
    "y =[99, 86, 87, 88, 100, 86,\n",
    "\t103, 87, 94, 78, 77, 85, 86]\n",
    "\n",
    "plt.scatter(x, y, c =\"blue\")\n",
    "\n",
    "# To show the plot\n",
    "plt.show()\n"
   ]
  },
  {
   "cell_type": "markdown",
   "metadata": {},
   "source": [
    "Scatter plots are widely used to represent relation among variables and how change in one affects the other. "
   ]
  },
  {
   "cell_type": "code",
   "execution_count": 2,
   "metadata": {},
   "outputs": [
    {
     "data": {
      "image/png": "[encoded data removed]",
      "text/plain": [
       "<Figure size 432x288 with 1 Axes>"
      ]
     },
     "metadata": {
      "needs_background": "light"
     },
     "output_type": "display_data"
    }
   ],
   "source": [
    "#Example 2: Scatter plot with different shape and colour for two datasets. \n",
    "import matplotlib.pyplot as plt\n",
    "\n",
    "# dataset-1\n",
    "x1 = [89, 43, 36, 36, 95, 10,\n",
    "\t66, 34, 38, 20]\n",
    "\n",
    "y1 = [21, 46, 3, 35, 67, 95,\n",
    "\t53, 72, 58, 10]\n",
    "\n",
    "# dataset2\n",
    "x2 = [26, 29, 48, 64, 6, 5,\n",
    "\t36, 66, 72, 40]\n",
    "\n",
    "y2 = [26, 34, 90, 33, 38,\n",
    "\t20, 56, 2, 47, 15]\n",
    "\n",
    "plt.scatter(x1, y1, c =\"pink\",\n",
    "\t\t\tlinewidths = 2,\n",
    "\t\t\tmarker =\"s\",\n",
    "\t\t\tedgecolor =\"green\",\n",
    "\t\t\ts = 50)\n",
    "\n",
    "plt.scatter(x2, y2, c =\"yellow\",\n",
    "\t\t\tlinewidths = 2,\n",
    "\t\t\tmarker =\"^\",\n",
    "\t\t\tedgecolor =\"red\",\n",
    "\t\t\ts = 200)\n",
    "\n",
    "plt.xlabel(\"X-axis\")\n",
    "plt.ylabel(\"Y-axis\")\n",
    "plt.show()\n"
   ]
  },
  {
   "cell_type": "code",
   "execution_count": null,
   "metadata": {},
   "outputs": [],
   "source": []
  }
 ],
 "metadata": {
  "kernelspec": {
   "display_name": "base",
   "language": "python",
   "name": "python3"
  },
  "language_info": {
   "codemirror_mode": {
    "name": "ipython",
    "version": 3
   },
   "file_extension": ".py",
   "mimetype": "text/x-python",
   "name": "python",
   "nbconvert_exporter": "python",
   "pygments_lexer": "ipython3",
   "version": "3.9.12"
  },
  "orig_nbformat": 4
 },
 "nbformat": 4,
 "nbformat_minor": 2
}
